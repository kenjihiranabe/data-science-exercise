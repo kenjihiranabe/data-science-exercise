{
  "nbformat": 4,
  "nbformat_minor": 0,
  "metadata": {
    "colab": {
      "private_outputs": true,
      "provenance": [],
      "toc_visible": true,
      "include_colab_link": true
    },
    "kernelspec": {
      "name": "python3",
      "display_name": "Python 3"
    },
    "language_info": {
      "name": "python"
    }
  },
  "cells": [
    {
      "cell_type": "markdown",
      "metadata": {
        "id": "view-in-github",
        "colab_type": "text"
      },
      "source": [
        "<a href=\"https://colab.research.google.com/github/kenjihiranabe/data-science-exercise/blob/main/101PCA.ipynb\" target=\"_parent\"><img src=\"https://colab.research.google.com/assets/colab-badge.svg\" alt=\"Open In Colab\"/></a>"
      ]
    },
    {
      "cell_type": "markdown",
      "source": [
        "# PCA 101"
      ],
      "metadata": {
        "id": "QyggOPfX-6fe"
      }
    },
    {
      "cell_type": "code",
      "source": [
        "import numpy as np\n",
        "import pandas as pd\n",
        "\n",
        "from sklearn.datasets import load_wine\n",
        "from sklearn.decomposition import PCA\n",
        "\n",
        "pd.set_option(\"display.precision\", 3)"
      ],
      "metadata": {
        "id": "bA0kQe8J-9Se"
      },
      "execution_count": null,
      "outputs": []
    },
    {
      "cell_type": "code",
      "source": [
        "wine = load_wine(as_frame=True)[\"data\"]\n",
        "wine.shape"
      ],
      "metadata": {
        "id": "bKsVQC07_eG3"
      },
      "execution_count": null,
      "outputs": []
    },
    {
      "cell_type": "code",
      "source": [
        "# 最初の5列だけを利用する\n",
        "# 5つの特徴量に対する主成分分析\n",
        "A = wine.iloc[:,:5]\n",
        "A.shape"
      ],
      "metadata": {
        "id": "EFynSHT1_38n"
      },
      "execution_count": null,
      "outputs": []
    },
    {
      "cell_type": "code",
      "source": [
        "# 共分散\n",
        "Cov = A.cov(ddof=0)\n",
        "Cov"
      ],
      "metadata": {
        "id": "K3EEbpgHAK3n"
      },
      "execution_count": null,
      "outputs": []
    },
    {
      "cell_type": "code",
      "source": [
        "# 共分散をnumpyで手計算\n",
        "X = A.values\n",
        "EX = X.mean(axis=0, keepdims=True) # 特徴量の平均ベクトル\n",
        "EX"
      ],
      "metadata": {
        "id": "LYyIGnZCATEv"
      },
      "execution_count": null,
      "outputs": []
    },
    {
      "cell_type": "code",
      "source": [
        "# Cov(X) = E(X'X) - E(X)'E(X)\n",
        "Cov = (X.T@X)/len(X) - EX.T@EX\n",
        "pd.DataFrame(Cov)"
      ],
      "metadata": {
        "id": "LaJmgzSCAsVJ"
      },
      "execution_count": null,
      "outputs": []
    },
    {
      "cell_type": "code",
      "source": [],
      "metadata": {
        "id": "K-YQidF5BM76"
      },
      "execution_count": null,
      "outputs": []
    },
    {
      "cell_type": "markdown",
      "source": [
        "## 中心化"
      ],
      "metadata": {
        "id": "znHLQIJ3BXmX"
      }
    },
    {
      "cell_type": "code",
      "source": [
        "# 各列（特徴量）について、各特徴量の平均を減算することでデータを中心化します\n",
        "# 線形代数的には、バイアスをなくして、原点からの線形性を保つ操作だと思います\n",
        "n = len(X)\n",
        "Xc = (np.eye(n) - np.ones((n, n))/n) @ X"
      ],
      "metadata": {
        "id": "HmAFUHNVBZak"
      },
      "execution_count": null,
      "outputs": []
    },
    {
      "cell_type": "code",
      "source": [],
      "metadata": {
        "id": "UXAcvzG3Bdvt"
      },
      "execution_count": null,
      "outputs": []
    },
    {
      "cell_type": "markdown",
      "source": [
        "## 固有値分解によるPCA"
      ],
      "metadata": {
        "id": "27FBVTDlBkfd"
      }
    },
    {
      "cell_type": "code",
      "source": [
        "lamb, S =  np.linalg.eig(Xc.T@Xc)"
      ],
      "metadata": {
        "id": "jrAp9RevBnLp"
      },
      "execution_count": null,
      "outputs": []
    },
    {
      "cell_type": "markdown",
      "source": [],
      "metadata": {
        "id": "qyOjIBZEB892"
      }
    },
    {
      "cell_type": "code",
      "source": [
        "list(np.sqrt(lamb))"
      ],
      "metadata": {
        "id": "VdyTg_SOBxLp"
      },
      "execution_count": null,
      "outputs": []
    },
    {
      "cell_type": "code",
      "source": [
        "pd.DataFrame(S)"
      ],
      "metadata": {
        "id": "eDzCr3RNB21Y"
      },
      "execution_count": null,
      "outputs": []
    },
    {
      "cell_type": "markdown",
      "source": [
        "## SVDによるPCA"
      ],
      "metadata": {
        "id": "bWzyd4RNB-xl"
      }
    },
    {
      "cell_type": "code",
      "source": [
        "U, sig, VT = np.linalg.svd(Xc, full_matrices=True)"
      ],
      "metadata": {
        "id": "xbSBmgN8CCyn"
      },
      "execution_count": null,
      "outputs": []
    },
    {
      "cell_type": "code",
      "source": [
        "list(sig)"
      ],
      "metadata": {
        "id": "EwUHQjYdCG6h"
      },
      "execution_count": null,
      "outputs": []
    },
    {
      "cell_type": "code",
      "source": [
        "pd.DataFrame(VT.T)"
      ],
      "metadata": {
        "id": "mQSmfq41CMYH"
      },
      "execution_count": null,
      "outputs": []
    },
    {
      "cell_type": "markdown",
      "source": [
        "## sklearn.decomposition.PCAによるPCA"
      ],
      "metadata": {
        "id": "MtamxbgnCRIb"
      }
    },
    {
      "cell_type": "code",
      "source": [
        "pca = PCA()\n",
        "pca.fit(X)"
      ],
      "metadata": {
        "id": "ec_-NVcbCXHA"
      },
      "execution_count": null,
      "outputs": []
    },
    {
      "cell_type": "code",
      "source": [
        "# なぜか、手計算とは、値が若干異なる\n",
        "# 最適化計算手法に依存するから？？？\n",
        "list(pca.explained_variance_)"
      ],
      "metadata": {
        "id": "UFdAWuugCdX-"
      },
      "execution_count": null,
      "outputs": []
    },
    {
      "cell_type": "code",
      "source": [
        "pd.DataFrame(pca.components_.T)"
      ],
      "metadata": {
        "id": "Rl73l3uEClaQ"
      },
      "execution_count": null,
      "outputs": []
    },
    {
      "cell_type": "markdown",
      "source": [
        "\n",
        "\n",
        "```\n",
        "# これはコードとして書式設定されます\n",
        "```\n",
        "\n",
        "# 2次元正規分布\n",
        "\n",
        "- PCAは共分散行列からの固有値分解、あるいは特異値分解を利用して求める\n",
        "- 共分散について考察します"
      ],
      "metadata": {
        "id": "xjvxOEeb3e88"
      }
    },
    {
      "cell_type": "code",
      "source": [
        "import numpy as np\n",
        "from matplotlib import pyplot as plt\n",
        "import seaborn as sns\n",
        " \n",
        "mu = [0, 0]\n",
        "sigma = [[10, 80], [80, 100]]\n",
        " \n",
        "# 2次元正規乱数を生成\n",
        "values = np.random.multivariate_normal(mu, sigma, 1000)\n",
        " \n",
        "# 散布図\n",
        "#sns.jointplot(values[:,0], values[:,1])\n",
        "plt.gca().set_aspect(\"equal\")\n",
        "plt.scatter(values[:,0], values[:,1])\n",
        "plt.grid()\n",
        "plt.show()"
      ],
      "metadata": {
        "id": "EWxgNsjYH0TO"
      },
      "execution_count": null,
      "outputs": []
    },
    {
      "cell_type": "markdown",
      "source": [
        "## 固有値分解"
      ],
      "metadata": {
        "id": "xflNfXgYnd8e"
      }
    },
    {
      "cell_type": "code",
      "source": [
        "# AS = SΛ\n",
        "lambs, S = np.linalg.eig(sigma)\n",
        "lambs, S"
      ],
      "metadata": {
        "id": "ISAS917v3knW"
      },
      "execution_count": null,
      "outputs": []
    },
    {
      "cell_type": "code",
      "source": [
        "# 固有ベクトル上の値を生成\n",
        "t = np.linspace(-30, 30, 100)\n",
        "x1, y1 = S[0,0] * t,  S[1,0] * t # PC2\n",
        "x2, y2 = S[0,1] * t,  S[1,1] * t # PC1"
      ],
      "metadata": {
        "id": "zp3As9F35-NO"
      },
      "execution_count": null,
      "outputs": []
    },
    {
      "cell_type": "code",
      "source": [
        "# 固有ベクトル上の値をプロット\n",
        "plt.gca().set_aspect(\"equal\")\n",
        "plt.scatter(values[:,0], values[:,1])\n",
        "plt.scatter(x1, y1, label = \"PC2\")\n",
        "plt.scatter(x2, y2, label = \"PC1\")\n",
        "plt.grid()\n",
        "plt.legend()\n",
        "plt.show()"
      ],
      "metadata": {
        "id": "nzmrgpgT7aeR"
      },
      "execution_count": null,
      "outputs": []
    },
    {
      "cell_type": "markdown",
      "source": [
        "## 回転行列"
      ],
      "metadata": {
        "id": "otjKHwT0n7aa"
      }
    },
    {
      "cell_type": "code",
      "source": [
        "# 固有ベクトルは正規化されている\n",
        "np.linalg.norm(S, axis=1)"
      ],
      "metadata": {
        "id": "jfKuLK2RfaPB"
      },
      "execution_count": null,
      "outputs": []
    },
    {
      "cell_type": "code",
      "source": [
        "# 回転角度\n",
        "theta = np.arctan2(S[1][0], S[0][0]) * 180 / np.pi\n",
        "theta"
      ],
      "metadata": {
        "id": "lIheS84IHuFn"
      },
      "execution_count": null,
      "outputs": []
    },
    {
      "cell_type": "code",
      "source": [
        "# 観測値を回転させる\n",
        "rotated = values @ S"
      ],
      "metadata": {
        "id": "T054Smq4iV38"
      },
      "execution_count": null,
      "outputs": []
    },
    {
      "cell_type": "code",
      "source": [
        "plt.gca().set_aspect(\"equal\")\n",
        "plt.scatter(rotated[:,0], rotated[:,1])\n",
        "# plt.scatter(x1, y1, label = \"PC2\")\n",
        "# plt.scatter(x2, y2, label = \"PC1\")\n",
        "plt.grid()\n",
        "# plt.legend()\n",
        "plt.show()"
      ],
      "metadata": {
        "id": "SnX8-UXjjMXQ"
      },
      "execution_count": null,
      "outputs": []
    },
    {
      "cell_type": "code",
      "source": [
        "# 固有ベクトル上の値も回転させる\n",
        "xx1, yy1 = S.T @ np.vstack([x1, y1])\n",
        "xx2, yy2 = S.T @ np.vstack([x2, y2])"
      ],
      "metadata": {
        "id": "qr2h4iNJjdeu"
      },
      "execution_count": null,
      "outputs": []
    },
    {
      "cell_type": "code",
      "source": [
        "plt.gca().set_aspect(\"equal\")\n",
        "plt.scatter(rotated[:,0], rotated[:,1])\n",
        "plt.scatter(xx1, yy1, label = \"PC2\")\n",
        "plt.scatter(xx2, yy2, label = \"PC1\")\n",
        "plt.grid()\n",
        "plt.legend()\n",
        "plt.show()"
      ],
      "metadata": {
        "id": "mReEEUT5jvq4"
      },
      "execution_count": null,
      "outputs": []
    }
  ]
}